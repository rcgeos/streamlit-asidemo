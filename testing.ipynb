import pandas as pd

url = "https://raw.githubusercontent.com/rcgeos/streamlit-asidemo/main/data/countries.geojson"

df = pd.read_json(url)

df.head()